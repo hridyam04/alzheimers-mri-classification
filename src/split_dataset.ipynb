{
 "cells": [
  {
   "cell_type": "code",
   "execution_count": 1,
   "id": "d3db833a",
   "metadata": {},
   "outputs": [
    {
     "name": "stdout",
     "output_type": "stream",
     "text": [
      "✅ CN: 7609 train, 1903 val\n",
      "✅ MCI: 13251 train, 3313 val\n",
      "✅ AD: 5508 train, 1378 val\n"
     ]
    }
   ],
   "source": [
    "# split_dataset.py\n",
    "import os\n",
    "import shutil\n",
    "import random\n",
    "\n",
    "source_root = r\"C:\\Users\\ASUS\\Downloads\\ADNI_preprocessed\"\n",
    "target_root = r\"C:\\Users\\ASUS\\OneDrive\\Documents\\alzheimers-mri-classification\\data\"\n",
    "\n",
    "classes = [\"CN\", \"MCI\", \"AD\"]\n",
    "split_ratio = 0.8  # 80% train, 20% val\n",
    "\n",
    "for cls in classes:\n",
    "    src_dir = os.path.join(source_root, cls)\n",
    "    files = os.listdir(src_dir)\n",
    "    random.shuffle(files)\n",
    "\n",
    "    split_idx = int(len(files) * split_ratio)\n",
    "    train_files = files[:split_idx]\n",
    "    val_files = files[split_idx:]\n",
    "\n",
    "    # Make sure target dirs exist\n",
    "    os.makedirs(os.path.join(target_root, \"train\", cls), exist_ok=True)\n",
    "    os.makedirs(os.path.join(target_root, \"val\", cls), exist_ok=True)\n",
    "\n",
    "    # Copy train files\n",
    "    for f in train_files:\n",
    "        shutil.copy(os.path.join(src_dir, f), os.path.join(target_root, \"train\", cls, f))\n",
    "\n",
    "    # Copy val files\n",
    "    for f in val_files:\n",
    "        shutil.copy(os.path.join(src_dir, f), os.path.join(target_root, \"val\", cls, f))\n",
    "\n",
    "    print(f\"✅ {cls}: {len(train_files)} train, {len(val_files)} val\")\n"
   ]
  }
 ],
 "metadata": {
  "kernelspec": {
   "display_name": "base",
   "language": "python",
   "name": "python3"
  },
  "language_info": {
   "codemirror_mode": {
    "name": "ipython",
    "version": 3
   },
   "file_extension": ".py",
   "mimetype": "text/x-python",
   "name": "python",
   "nbconvert_exporter": "python",
   "pygments_lexer": "ipython3",
   "version": "3.13.5"
  }
 },
 "nbformat": 4,
 "nbformat_minor": 5
}
