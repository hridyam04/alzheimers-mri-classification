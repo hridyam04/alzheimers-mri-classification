{
 "cells": [
  {
   "cell_type": "code",
   "execution_count": null,
   "id": "8c24de53",
   "metadata": {},
   "outputs": [
    {
     "name": "stdout",
     "output_type": "stream",
     "text": [
      "✅ Loaded: C:\\Users\\ASUS\\Downloads\\ADNI1_Complete 1Yr 1.5T1\\ADNI\\133_S_0488\\MPR__N3__Scaled\\2006-12-14\\I319786\\ADNI_133_S_0488_MR_MPR__GradWarp__B1_Correction__N3__Scaled_Br_20120731112808229_S24271_I319786.nii\n",
      "Shape (X, Y, Z): (256, 256, 166)\n",
      "✅ Conversion complete! JPG slices saved in: C:\\Users\\ASUS\\Downloads\\ADNI_preprocessed\n"
     ]
    }
   ],
   "source": [
    "import os\n",
    "import nibabel as nib\n",
    "import cv2\n",
    "import numpy as np\n",
    "\n",
    "# Root folder where ADNI dataset is extracted\n",
    "root_folder = r\"C:\\Users\\ASUS\\Downloads\\ADNI1_Complete 1Yr 1.5T1\"\n",
    "output_root = r\"C:\\Users\\ASUS\\Downloads\\ADNI_preprocessed\"\n",
    "os.makedirs(output_root, exist_ok=True)\n",
    "\n",
    "# Desired output size (adjust as needed for your CNN)\n",
    "IMG_SIZE = (128, 128)\n",
    "\n",
    "# Walk through all subfolders and find .nii or .nii.gz files\n",
    "for dirpath, dirnames, filenames in os.walk(root_folder):\n",
    "    for file in filenames:\n",
    "        if file.endswith(\".nii\") or file.endswith(\".nii.gz\"):\n",
    "            nii_file = os.path.join(dirpath, file)\n",
    "\n",
    "            # Extract subject/session ID\n",
    "            base_name = os.path.splitext(file)[0]\n",
    "\n",
    "            # Create output folder for this subject/session\n",
    "            subject_out = os.path.join(output_root, base_name)\n",
    "            os.makedirs(subject_out, exist_ok=True)\n",
    "\n",
    "            print(f\"📂 Processing: {nii_file}\")\n",
    "\n",
    "            try:\n",
    "                # Load NIfTI\n",
    "                img = nib.load(nii_file)\n",
    "                data = img.get_fdata()\n",
    "\n",
    "                # Save each slice\n",
    "                for i in range(data.shape[2]):\n",
    "                    slice_2d = data[:, :, i]\n",
    "\n",
    "                    # Normalize and convert to uint8\n",
    "                    slice_2d = cv2.normalize(slice_2d, None, 0, 255, cv2.NORM_MINMAX)\n",
    "                    slice_2d = slice_2d.astype(np.uint8)\n",
    "\n",
    "                    # Resize to fixed size\n",
    "                    slice_resized = cv2.resize(slice_2d, IMG_SIZE, interpolation=cv2.INTER_AREA)\n",
    "\n",
    "                    # Save as JPG\n",
    "                    out_file = os.path.join(subject_out, f\"{base_name}_slice_{i:03d}.jpg\")\n",
    "                    cv2.imwrite(out_file, slice_resized)\n",
    "\n",
    "                print(f\"✅ Saved {data.shape[2]} resized slices to {subject_out}\")\n",
    "\n",
    "            except Exception as e:\n",
    "                print(f\"❌ Error processing {nii_file}: {e}\")\n",
    "\n",
    "print(\"🎉 Conversion complete! All subjects processed.\")\n"
   ]
  },
  {
   "cell_type": "code",
   "execution_count": null,
   "id": "14d3811d",
   "metadata": {},
   "outputs": [],
   "source": []
  }
 ],
 "metadata": {
  "kernelspec": {
   "display_name": "base",
   "language": "python",
   "name": "python3"
  },
  "language_info": {
   "codemirror_mode": {
    "name": "ipython",
    "version": 3
   },
   "file_extension": ".py",
   "mimetype": "text/x-python",
   "name": "python",
   "nbconvert_exporter": "python",
   "pygments_lexer": "ipython3",
   "version": "3.13.5"
  }
 },
 "nbformat": 4,
 "nbformat_minor": 5
}
